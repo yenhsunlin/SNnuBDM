{
 "cells": [
  {
   "cell_type": "code",
   "execution_count": 1,
   "id": "metropolitan-favor",
   "metadata": {},
   "outputs": [],
   "source": [
    "import numpy as np\n",
    "import matplotlib.pyplot as plt\n",
    "%config InlineBackend.figure_format='retina'\n",
    "from scipy.integrate import quad,dblquad,nquad\n",
    "from scipy.optimize import root_scalar\n",
    "from timeit import default_timer as timer\n",
    "import vegas\n",
    "#import jax.numpy as jnp\n",
    "#from jax import grad"
   ]
  },
  {
   "cell_type": "code",
   "execution_count": 2,
   "id": "subtle-guess",
   "metadata": {},
   "outputs": [],
   "source": [
    "# Global constants\n",
    "# light speed, cm\n",
    "c = 2.99792458e10\n",
    "# kpc to cm\n",
    "kpc2cm = 3.08567758e21\n",
    "# erg to MeV\n",
    "erg2MeV = 624150.913\n",
    "# year in seconds\n",
    "yr = 31536000\n",
    "# Neutrino lumonisity, single specie\n",
    "Lv = 3e52/6"
   ]
  },
  {
   "cell_type": "markdown",
   "id": "phantom-seafood",
   "metadata": {},
   "source": [
    "## SN neutrino and DM halo profile\n",
    "The neutrino number density per energy\n",
    "$$\n",
    "\\frac{dn_\\nu}{dE_\\nu}(r,E_\\nu) = \\sum_\\beta \\frac{L_{\\nu_{\\beta}}}{4\\pi r^2 c \\langle E_{\\nu_\\beta}\\rangle}f_{\\nu_\\beta}(E_{\\nu_\\beta})\n",
    "$$\n",
    "where $\\beta$ indicates the neutrino flavor and\n",
    "$$\n",
    "f_{\\nu_\\beta}(E_{\\nu_\\beta}) = \\frac{1}{F_2(\\eta_\\nu)}\\frac{1}{T_{\\nu_\\beta}^3}\\frac{E_{\\nu_\\beta}^2}{\\exp(E_{\\nu_\\beta}/T_{\\nu_\\beta} -\\eta_\\nu)+1}\n",
    "$$\n",
    "and in general $\\eta_\\nu=3$ for all flavor $\\beta$ and $F_2(\\eta_\\nu)\\approx 18.96$.\n",
    "\n",
    "NFW DM density profile\n",
    "$$\n",
    "n_\\chi(r)=\\frac{\\rho_\\chi}{m_\\chi}\\frac{1}{\\frac{r}{r_s}(1+\\frac{r}{r_s})^2}\n",
    "$$\n",
    "where $\\rho_\\chi = 184\\,{\\rm MeV/cm}^3$ and $r_s=24.42\\,{\\rm kpc}$."
   ]
  },
  {
   "cell_type": "code",
   "execution_count": 3,
   "id": "aquatic-victor",
   "metadata": {},
   "outputs": [],
   "source": [
    "def dnv(r,Ev,Lv=Lv):\n",
    "    \"\"\"\n",
    "    Neutrino number density per energy at r\n",
    "    \n",
    "    Input\n",
    "    ------\n",
    "    Enu: Neutrino energy in MeV\n",
    "    r: Distance to the SN explosion site, in cm\n",
    "    Lv: Neutrino luminosity, default is 1e52 erg/s, total time is 10 second\n",
    "    \n",
    "    Output\n",
    "    ------\n",
    "    Neutrino flux at r: # per Enu per cm**3 per second\n",
    "    \"\"\"\n",
    "    Lv = Lv*erg2MeV\n",
    "    #r = r*kpc2cm\n",
    "    \n",
    "    def _fv(Ev,Tv):\n",
    "        \"\"\"\n",
    "        Fermi-Dirac distribution\n",
    "        \"\"\"\n",
    "        exponent = Ev/Tv - 3\n",
    "        if exponent <= 709.782:\n",
    "            return (1/18.9686)*Tv**(-3)*(Ev**2/(np.exp(exponent)+1))\n",
    "        else:\n",
    "            return 0\n",
    "    \n",
    "    nue_dist = _fv(Ev,2.76)/11\n",
    "    nueb_dist = _fv(Ev,4.01)/16\n",
    "    # total 4 species for x\n",
    "    nux_dist = _fv(Ev,6.26)/25\n",
    "    \n",
    "    L=Lv/(4*np.pi*r**2*c)\n",
    "    return L*(nue_dist+nueb_dist+4*nux_dist)\n",
    "\n",
    "\n",
    "def nx(r,mx,rho=184,rs=24.42):\n",
    "    \"\"\"\n",
    "    DM number density at r\n",
    "    \n",
    "    Input\n",
    "    ------\n",
    "    r: distance to GC, in cm\n",
    "    mx: DM mass in MeV\n",
    "    rho: characteristic density, default is 184 MeV/cm^3\n",
    "    rs: characteristic length, default is 24.42 kpc\n",
    "    \n",
    "    Output\n",
    "    ------\n",
    "    DM number density, #/cm^3 at r\n",
    "    \"\"\"\n",
    "    rr=r/rs/kpc2cm\n",
    "    return (rho/mx)/(rr*(1+rr)**2)"
   ]
  },
  {
   "cell_type": "markdown",
   "id": "ready-regulation",
   "metadata": {},
   "source": [
    "## DM emissivity\n",
    "\n",
    "Upscattered DM emissivity\n",
    "$$\n",
    "j_\\chi^N(r,p_\\chi,\\alpha)=\\frac{dn_\\chi}{dtdp_\\chi d\\Omega_\\alpha}=\\frac{dn_\\chi}{dtdE_\\nu d\\Omega_\\alpha}\\frac{dE_\\nu}{dp_\\chi}=c\\sigma_{\\chi \\nu}n_\\chi(r)\\frac{dn_\\nu}{dE_\\nu}g(\\alpha,E_\\nu)\\frac{dE_\\nu}{dp_\\chi},\n",
    "$$\n",
    "where $g(\\alpha,E_\\nu)$ is the angular distribution of the upscattered DM, $p$ the upscattered DM momentum and $\\alpha$ the scattering angle.\n",
    "\n",
    "The angluar distribution is given by\n",
    "$$\n",
    "g(\\alpha,E_\\nu)=\\frac{dn_\\chi}{d\\Omega_\\alpha}=\\frac{\\sin[2\\tan^{-1}(\\gamma \\tan\\alpha)]}{2\\pi \\sin\\alpha}\\frac{\\gamma \\sec^2\\alpha}{1+\\gamma^2\\tan^2\\alpha}=\\frac{\\gamma^2}{\\pi}\\frac{\\sec^3\\alpha}{(1+\\gamma^2\\tan^2\\alpha)^2} = \\frac{\\gamma^2}{\\pi}\\frac{r^3\\sqrt{r^2-R^2\\sin^2\\theta}}{(r^2+R^2(\\gamma^2-1)\\sin^2\\theta)^2}\n",
    "$$\n",
    "and satisfies the normalization condiation\n",
    "$$\n",
    "\\int g(\\alpha,E_\\nu)d\\cos\\alpha d\\phi =1\n",
    "$$\n",
    "where $\\alpha$ runs from $0$ to $\\pi/2$ and $\\gamma=E_\\chi/m_\\chi$. As a matter of fact, the above condition is irrelevant to $\\gamma$."
   ]
  },
  {
   "cell_type": "markdown",
   "id": "engaged-costs",
   "metadata": {},
   "source": [
    "### Find $E_\\nu$ with given $T_\\chi$ and $\\alpha$\n",
    "\n",
    "We re-express $p_\\chi$ in terms of kinetic energy $T_\\chi$ via\n",
    "$$\n",
    "p_\\chi = \\sqrt{T_\\chi(T_\\chi+2m_\\chi)}\\to dp_\\chi = \\frac{T_\\chi + m_\\chi}{\\sqrt{T_\\chi(T_\\chi+2m_\\chi)}}dT_\\chi \\equiv \\frac{dT_\\chi}{v_\\chi(T_\\chi,m_\\chi)}\n",
    "$$\n",
    "thus\n",
    "$$\n",
    "\\frac{dE_\\nu}{dp_\\chi}= v_\\chi(T_\\chi,m_\\chi)\\frac{dE_\\nu}{dT_\\chi}\\quad {\\rm and}\\quad \\frac{dE_\\nu}{dp_\\chi}dp_\\chi=\\frac{dE_\\nu}{dT_\\chi}dT_\\chi.\n",
    "$$\n",
    "In the limits of non-relativistic $T_\\chi \\ll m_\\chi$ and of relativistic $T_\\chi \\gg m_\\chi$, they have $v_\\chi\\to \\sqrt{2T_\\chi/m_\\chi}$ and $v_\\chi \\to 1$ respectively as expected. Note that the relation between $E_\\nu$ and $T_\\chi$ can be determined by\n",
    "$$\n",
    "T_\\chi = \\frac{E_\\nu^2}{E_\\nu+m_\\chi/2}\\left(\\frac{1+\\cos\\theta_c}{2}\\right)\n",
    "$$\n",
    "and\n",
    "$$\n",
    "\\theta_c = 2\\tan^{-1}(\\gamma \\tan\\alpha)\n",
    "$$\n",
    "where $\\gamma = E_{\\chi,{\\rm cm}}/m_\\chi$. Once $\\alpha$ and $T_\\chi$ are given, $E_\\nu$ will be specified, hence numerically we have\n",
    "$$\n",
    "\\frac{dE_\\nu}{dT_\\chi} =\\underset{dT_{\\chi}\\to 0}{\\lim} \\frac{E_\\nu(T_\\chi+dT_\\chi,\\alpha)-E_\\nu(T_\\chi,\\alpha)}{dT_\\chi}.\n",
    "$$\n",
    "We can obtain $E_\\nu$ with given $T_\\chi$ and $\\alpha$ through *root finding method*.\n",
    "\n",
    "An alternative way is to derive the *analytical expression* of $E_\\nu$ in terms of $T_\\chi$,\n",
    "$$\n",
    "E_{\\nu}=\\frac{T_{\\chi}\\sec^{2}\\alpha+\\sec\\alpha\\sqrt{T_{\\chi}(2m_{\\chi}+T_{\\chi})}}{2-T_{\\chi}\\tan^{2}\\alpha/m_{\\chi}}=\\frac{T_{\\chi}m_{\\chi}}{\\sqrt{T_{\\chi}(2m_{\\chi}+T_{\\chi})\\left(1-\\frac{R^{2}}{r^{2}}\\sin^{2}\\theta\\right)}-T_{\\chi}}\n",
    "$$\n",
    "where $\\gamma$ can be expressed in terms fo $E_\\nu$ and $m_\\chi$ by\n",
    "$$\n",
    "\\gamma=\\frac{E_{\\chi,{\\rm cm}}}{m_\\chi}=\\frac{s+m_\\chi^2}{2\\sqrt{s}}\\frac{1}{m_\\chi}=\\frac{E_\\nu +m_\\chi}{\\sqrt{m_\\chi(2E_\\nu + m_\\chi)}}.\n",
    "$$\n",
    "It is obvious that the numerator of $E_\\nu$ is always positive but the denominator is not when $2<T_\\chi \\tan^2\\alpha/m_\\chi$. Thus $E_\\nu$ will turn negative and becomes unphysical. For the given $\\alpha$ and $m_\\chi$, the allowed range is $T_\\chi < 2m_\\chi/\\tan^2\\alpha$. There is another root for $E_\\nu$ but it is always negative.\n",
    "\n",
    "Thus we have the differential\n",
    "$$\n",
    "\\frac{dE_\\nu}{dT_\\chi}= \\frac{m_{\\chi}^{2}\\sec\\alpha(2\\sec\\alpha\\sqrt{T_{\\chi}(2m_{\\chi}+T_{\\chi})}+2m_{\\chi}+T_{\\chi}\\sec^{2}\\alpha+T_{\\chi})}{(T_{\\chi}\\tan^{2}\\alpha-2m_{\\chi})^2\\sqrt{T_{\\chi}(2m_{\\chi}+T_{\\chi})}}=\\frac{m_{\\chi}^{2}\\left(\\frac{2\\sqrt{T_{\\chi}\\left(2m_{\\chi}+T_{\\chi}\\right)}}{\\sqrt{1-\\frac{R^{2}\\sin^{2}\\theta}{r^{2}}}}+2m_{\\chi}+\\frac{T_{\\chi}}{1-\\frac{R^{2}\\sin^{2}\\theta}{r^{2}}}+2T_{\\chi}\\right)}{\\sqrt{T_{\\chi}\\left(2m_{\\chi}+T_{\\chi}\\right)}\\sqrt{1-\\frac{R^{2}\\sin^{2}\\theta}{r^{2}}}\\left(\\frac{R^{2}\\sin^{2}\\theta T_{\\chi}}{r^{2}-R^{2}\\sin^{2}\\theta}-2m_{\\chi}\\right){}^{2}}\n",
    "$$\n",
    "No matter it is through root finding or analytical expression, both results should agree with each other."
   ]
  },
  {
   "cell_type": "code",
   "execution_count": 4,
   "id": "automated-cloud",
   "metadata": {},
   "outputs": [],
   "source": [
    "def gamma(Ev,mx):\n",
    "    \"\"\"\n",
    "    Calculate gamma factor in CM frame\n",
    "    \"\"\"\n",
    "    s = mx**2+2*Ev*mx\n",
    "    Ecm = 0.5*(s+mx**2)/np.sqrt(s)\n",
    "    return Ecm/mx\n",
    "\n",
    "\n",
    "def g(Ev,mx,alpha):\n",
    "    \"\"\"\n",
    "    Calculate BDM angular distribution dndOmega\n",
    "    \n",
    "    Input\n",
    "    ------\n",
    "    Enu: Neutrino energy\n",
    "    mx: DM mass\n",
    "    alpha: lab frame scattering angle in [0,Pi/2]\n",
    "    \n",
    "    Output\n",
    "    ------\n",
    "    g: PDF of scattering angle alpha\n",
    "    \"\"\" \n",
    "    if 0 <= alpha <= np.pi/2 and Ev > 0:\n",
    "        gm = gamma(Ev,mx)\n",
    "        sec = 1/np.cos(alpha)\n",
    "        dndOmega = gm**2*sec**3/np.pi/(1+gm**2*np.tan(alpha)**2)**2\n",
    "    else:\n",
    "        dndOmega = 0\n",
    "    return dndOmega\n",
    "\n",
    "\n",
    "def Tx(Ev,mx,alpha):\n",
    "    \"\"\"\n",
    "    Calculate DM kinetic energy, Eq. (28), and velocity, Eq. (30),\n",
    "    in terms of lab frame scattering angle\n",
    "    \n",
    "    Input\n",
    "    ------\n",
    "    Enu: Neutrino energy\n",
    "    mx: DM mass\n",
    "    alpha: lab frame scattering angle in [0,Pi/2]\n",
    "    \n",
    "    Output\n",
    "    ------\n",
    "    Tx: DM kinetic energy at alpha after scattering\n",
    "    \"\"\"\n",
    "    # gamma factor in CM frame\n",
    "    gm = gamma(Ev,mx)\n",
    "    # CM frame scattering angle\n",
    "    theta_c = 2*np.arctan(gm*np.tan(alpha))\n",
    "    \n",
    "    # Tmax in lab frame\n",
    "    Tmax = Ev**2/(Ev+0.5*mx)\n",
    "    Tchi = 0.5*Tmax*(1+np.cos(theta_c))\n",
    "    return Tchi\n",
    "\n",
    "\n",
    "def Ev(Tx,mx,alpha):\n",
    "    \"\"\"\n",
    "    Calculate the neutrino energy to produce DM kinetic energy at\n",
    "    lab frame with scattering angle alpha via analytical expression.\n",
    "    \n",
    "    Input\n",
    "    ------\n",
    "    Tx: DM kinetic energy\n",
    "    mx: DM mass\n",
    "    alpha: scattering angle in lab frame\n",
    "    \n",
    "    Output\n",
    "    Ev: the corresponding neutrino energy\n",
    "    \"\"\" \n",
    "    sec = 1/np.cos(alpha)\n",
    "    Enu = (Tx*sec**2+sec*np.sqrt(Tx*(2*mx+Tx)))/(2-Tx*np.tan(alpha)**2/mx)\n",
    "    return Enu\n",
    "\n",
    "\n",
    "def dEv(Tx,mx,alpha):\n",
    "    \"\"\"\n",
    "    Calculate dEv/dTx via analytical expression. Note that the given\n",
    "    inputs must lead to positive Ev or the corresponding dEvdTx would\n",
    "    be unphysical\n",
    "    \n",
    "    Input\n",
    "    ------\n",
    "    Tx: DM kinetic energy\n",
    "    mx: DM mass\n",
    "    alpha: scattering angle in lab frame\n",
    "    \n",
    "    Output\n",
    "    ------\n",
    "    dEv/dTx: the derivative of Ev over Tx\n",
    "    \"\"\"\n",
    "    sec = 1/np.cos(alpha)\n",
    "    numerator = mx**2*sec*(2*sec*np.sqrt(Tx*(2*mx + Tx)) + 2*mx + Tx*sec**2 + Tx)\n",
    "    denominator = (Tx*np.tan(alpha)**2 - 2*mx)**2*np.sqrt(Tx*(2*mx + Tx))\n",
    "    return numerator/denominator\n",
    "\n",
    "\n",
    "def vx(Tx,mx):\n",
    "    \"\"\"\n",
    "    The dimensionless DM velocity. To restore the physical unit, just\n",
    "    times the speed of light c\n",
    "    \n",
    "    Input\n",
    "    ------\n",
    "    Tx: DM kinetic energy\n",
    "    mx: DM mass\n",
    "    \n",
    "    Output\n",
    "    ------\n",
    "    vx: dimensionless DM velocity\n",
    "    \"\"\"\n",
    "    return np.sqrt(Tx*(Tx+2*mx))/(Tx+mx)\n",
    "\n",
    "\n",
    "def xemissivity(Tx,mx,alpha,r,rho=184,rs=24.42,tau=10,Lv=Lv):\n",
    "    \"\"\"\n",
    "    BDM emissivity at shell r, note the returned result is divided by sigxv and dimensionless DM velocity\n",
    "    \n",
    "    Input\n",
    "    ------\n",
    "    Tx: DM kinetic energy, MeV\n",
    "    mx: DM mass, MeV\n",
    "    alpha: the scattering angle in lab frame\n",
    "    r: the distance from the scattering point to GC, in cm\n",
    "    rho: DM halo characteristic density, default 184 MeV/cm^3\n",
    "    rs: DM halo characteristic length, default 24.42 kpc\n",
    "    tau: the duration of SN explosion, default 10 s\n",
    "    Lv: neutrino luminosity during the SN explosion, default 1e52 erg/s\n",
    "        note that the total luminosity released by a single SN explosion\n",
    "        should be Lv times the duration of that explosion, where the unit\n",
    "        per second will be eliminated from this procedure\n",
    "    \n",
    "    Output\n",
    "    ------\n",
    "    BDM emissivity: in the unit of per cm^3 per second\n",
    "    \"\"\"\n",
    "    # if Tx >= 2mx/tan(a)^2, Ev will turn negative (diverge at equal) which is unphysical\n",
    "    if Tx < 2*mx/np.tan(alpha)**2:\n",
    "        Enu = Ev(Tx,mx,alpha)\n",
    "        dEdT = dEv(Tx,mx,alpha)\n",
    "        jx = dnv(r,Enu,Lv)*g(Enu,mx,alpha)*dEdT*c*nx(r,mx,rho,rs)*tau\n",
    "    else:\n",
    "        jx = 0\n",
    "    return jx"
   ]
  },
  {
   "cell_type": "code",
   "execution_count": 86,
   "id": "continuing-wealth",
   "metadata": {},
   "outputs": [],
   "source": [
    "alpha_ls = np.linspace(0,0.5,1000)\n",
    "mx1 = 0.001\n",
    "mx2 = 0.1\n",
    "mx3 = 10\n",
    "mx4 = 1000\n",
    "#mx5 = 1000\n",
    "Tx = 10\n",
    "g1 = []\n",
    "g2 = []\n",
    "g3 = []\n",
    "g4 = []\n",
    "#g5 = []\n",
    "#gls_01keV = []\n",
    "for a in alpha_ls:\n",
    "    g1.append(2*np.pi*np.sin(a*np.pi)*g(Ev(Tx,mx1,a*np.pi),mx1,a*np.pi))\n",
    "    g2.append(2*np.pi*np.sin(a*np.pi)*g(Ev(Tx,mx2,a*np.pi),mx2,a*np.pi))\n",
    "    g3.append(2*np.pi*np.sin(a*np.pi)*g(Ev(Tx,mx3,a*np.pi),mx3,a*np.pi))\n",
    "    g4.append(2*np.pi*np.sin(a*np.pi)*g(Ev(Tx,mx4,a*np.pi),mx4,a*np.pi))\n",
    "#    g5.append(2*np.pi*np.sin(a)*g(Ev(Tx,mx5,a*np.pi),mx5,a*np.pi))"
   ]
  },
  {
   "cell_type": "code",
   "execution_count": 87,
   "id": "numerous-ideal",
   "metadata": {},
   "outputs": [
    {
     "data": {
      "text/plain": [
       "(0.001, 100)"
      ]
     },
     "execution_count": 87,
     "metadata": {},
     "output_type": "execute_result"
    },
    {
     "data": {
      "image/png": "[encoded data removed]",
      "text/plain": [
       "<Figure size 432x288 with 1 Axes>"
      ]
     },
     "metadata": {
      "image/png": {
       "height": 279,
       "width": 395
      },
      "needs_background": "light"
     },
     "output_type": "display_data"
    }
   ],
   "source": [
    "plt.plot(alpha_ls,g1,label='$m_\\chi=$'+str(mx1)+' MeV')\n",
    "plt.plot(alpha_ls,g2,label='$m_\\chi=$'+str(mx2)+' MeV')\n",
    "plt.plot(alpha_ls,g3,label='$m_\\chi=$'+str(mx3)+' MeV')\n",
    "plt.plot(alpha_ls,g4,label='$m_\\chi=$'+str(mx4)+' MeV')\n",
    "#plt.plot(alpha_ls,g5,label='$m_\\chi=$'+str(mx5)+' MeV')\n",
    "plt.legend(loc='best')\n",
    "plt.xlabel(r'$\\alpha~[\\pi]$')\n",
    "plt.ylabel(r'$g(\\alpha)$')\n",
    "plt.title('$T_\\chi =$'+str(Tx)+' MeV')\n",
    "plt.yscale('log')\n",
    "plt.ylim(1e-3,100)\n",
    "plt.savefig('g.pdf',facecolor='white',bbox_inches='tight')"
   ]
  },
  {
   "cell_type": "markdown",
   "id": "standing-phone",
   "metadata": {},
   "source": [
    "## Boosted DM flux at Earth\n",
    "\n",
    "The upscattered DM flux is given by\n",
    "$$\n",
    "\\frac{d\\Phi^{N}(T_{\\chi},t)}{dT_{\\chi}dt}=2\\pi \\mathcal{J}\\tau\\int_{\\cos\\theta_{{\\rm min}}}^{\\cos\\theta_{{\\rm max}}}d\\cos\\theta \\left. j_{\\chi}^{N}(r,T_{\\chi},\\alpha)\\right|_{\\frac{r}{c}+\\frac{\\ell}{v_{\\chi}}=t}\n",
    "$$\n",
    "where $\\theta \\in [0,\\pi/2]$ and $\\mathcal{J}$ is a Jacobian.\n",
    "Once $t$ is given, the corresponding $r$ is also known for specified $\\ell$ and $\\cos\\theta$ where\n",
    "$$\n",
    "r=\\sqrt{\\ell^2+R^2-2\\ell R \\cos\\theta}\n",
    "$$\n",
    "hence after solving\n",
    "$$\n",
    "\\frac{r}{c}+\\frac{\\ell}{v_\\chi}=t\n",
    "$$\n",
    "we have (I used *Mathematica*)\n",
    "$$\n",
    "\\ell = \\frac{-\\sqrt{c^{2}v_{\\chi}^{2}(R^{2}-2Rtv_{\\chi}\\cos\\theta+t^{2}v_{\\chi}^{2})-R^{2}v_{\\chi}^{4}\\sin^{2}\\theta}+c^{2}tv_{\\chi}-Rv_{\\chi}^{2}\\cos\\theta}{c^{2}-v_{\\chi}^{2}}.\n",
    "$$\n",
    "Note that $t$ consists of two parts. The first counts from the propagation time of SN neutrino from the explosion site to the upscattering point $r/c$ (assuming neutrino carries light speed). The second indicates the DM propagation time from the upscattering point to the Earth $\\ell/v_\\chi$.\n",
    "In addition, the Jacobian factor is derived as\n",
    "$$\n",
    "d\\left(\\frac{r}{c}+\\frac{\\ell}{v_\\chi}\\right)=dt\\to \\left(\\frac{\\ell- R\\cos\\theta}{rc} +\\frac{1}{v_\\chi}\\right)d\\ell = dt,\n",
    "$$\n",
    "Thus,\n",
    "$$\n",
    "\\mathcal{J}=\\left(\\frac{\\ell- R\\cos\\theta}{rc} +\\frac{1}{v_\\chi}\\right)^{-1}.\n",
    "$$\n",
    "\n",
    "Some input, such as $t$, have no physical solutions for both $\\ell$ and $r$ (one or both of them would be negative). Therefore the contribution from such $t$ to the emissivity $j_\\chi^N$ should be removed manually.\n",
    "\n",
    "Another trouble happens when we use $\\sin\\alpha =R\\sin\\theta/r$ to obtain $\\alpha$. The two cases are degenerate $\\sin\\alpha = \\sin(\\pi-\\alpha)$. *Numpy* function `arcsin` only returns $\\alpha<\\pi/2$ result, despite sometimes the true $\\alpha$ is larger than $\\pi/2$. So instead of using the law of sine, I implemented the law of cosine which will return the true $\\alpha$ even it is larger than $\\pi/2$. \n",
    "\n",
    "Since $\\ell$ and $r$ are known, we have\n",
    "$$\n",
    "\\cos(\\pi-\\alpha)=\\frac{r^2+\\ell^2-R^2}{2r\\ell}\n",
    "$$\n",
    "thus\n",
    "$$\n",
    "\\alpha =\\cos^{-1}\\left(\\frac{R^2-r^2-\\ell^2}{2r\\ell}\\right).\n",
    "$$\n",
    "The above guarantees the true $\\alpha$ can be faithfully revealed.\n",
    "\n",
    "<div align=\"center\"> <img src=\"./geometry.png\"> </div>"
   ]
  },
  {
   "cell_type": "markdown",
   "id": "destroyed-snake",
   "metadata": {},
   "source": [
    "### Simplified expression for $\\ell$\n",
    "\n",
    "We can have more simplified expression for $\\ell$ with\n",
    "$$\n",
    "r + \\frac{\\ell}{v_\\chi} = ct = c\\left(\\frac{R}{c}+t_{\\rm input}\\right) \\equiv\\zeta\n",
    "$$\n",
    "where $r$, $\\ell$ and $\\zeta$ are in normal length unit and $v_\\chi$ the dimensionless velocity. Thus,\n",
    "$$\n",
    "\\ell = v_{\\chi}\\times\\frac{\\zeta-Rv_{\\chi}\\cos\\theta-\\sqrt{R^{2}-R^{2}v_{\\chi}^{2}+v_{\\chi}^{2}\\zeta^{2}+R_{\\chi}v_{\\chi}\\cos\\theta(Rv_{\\chi}\\cos\\theta-2\\zeta)}}{1-v_{\\chi}^{2}}.\n",
    "$$\n",
    "Note that $t$ is the total propagation time timing from the upscattering point."
   ]
  },
  {
   "cell_type": "markdown",
   "id": "laughing-angel",
   "metadata": {},
   "source": [
    "### Vanishing BDM at time $t$\n",
    "For a given $T_\\chi$ and $m_\\chi$, the vanishing of BDM flux vs. time $t$ corresponds to $g(\\alpha)$ is too small to be relevant.\n",
    "In principle $g(\\alpha)$ vanishes when $\\alpha=\\pi/2$. But as one calculates, $g(\\alpha)$ becomes too small to be detected even when $\\alpha\\ll\\pi/2$ in the relativistic case.\n",
    "Thus, we define an effective angle $\\alpha_m$ that indicates $g(\\alpha_m)$ touches the zero place (note that in such range $\\alpha_m<\\alpha<\\pi/2$, $g(\\alpha)$ is always $0$).\n",
    "Thus following the law of sine,\n",
    "$$\n",
    "\\frac{\\ell}{\\sin\\Theta}=\\frac{R}{\\sin(\\pi-\\alpha_m)}=\\frac{r}{\\sin\\theta}\\to \\frac{\\ell}{\\sin(\\alpha_m-\\theta)}=\\frac{R}{\\sin\\alpha_m}=\\frac{r}{\\sin\\theta}\n",
    "$$\n",
    "we express $\\ell=R\\sin(\\alpha_m-\\theta)/\\sin\\alpha_m$ and $r=R\\sin\\theta/\\sin\\alpha_m$. Hence,\n",
    "$$\n",
    "t=\\frac{r}{c}+\\frac{\\ell}{v_\\chi}=\\frac{R}{\\sin\\alpha_m}\\left(\\frac{\\sin\\theta}{c}+\\frac{\\sin(\\alpha_m-\\theta)}{v_\\chi}\\right)\n",
    "$$\n",
    "and the maxima of $t$ happens when $\\left. dt/d\\theta\\right|_{\\theta=\\theta_m}=0$. Generally, $\\theta_m$ can be found numerically by solving the following identity,\n",
    "$$\n",
    "\\frac{\\cos(\\alpha_m-\\theta)}{\\cos\\theta}=\\frac{v_\\chi}{c}.\n",
    "$$\n",
    "Note that $\\theta \\in [0,\\pi/2]$."
   ]
  },
  {
   "cell_type": "markdown",
   "id": "conceptual-clinic",
   "metadata": {},
   "source": [
    "### Finding the $\\theta_{\\rm max}$ in the integral of $d\\Phi_\\chi/dT_\\chi$\n",
    "\n",
    "One can simply realize that for a given propagation time $t_{\\rm \\chi}$, the following identity holds\n",
    "$$\n",
    "t_\\chi=\\frac{r}{c}+\\frac{\\ell}{v_\\chi}=\\frac{R}{\\sin\\alpha}\\left(\\frac{\\sin\\theta}{c}+\\frac{\\sin(\\alpha-\\theta)}{v_\\chi}\\right).\n",
    "$$\n",
    "Therefore there are infinite solutions $(\\alpha,\\theta)$ that satisfy the above equation. Because we are solving a problem that has two unknown variables but only one constraint $t_\\chi$.\n",
    "The above equation has a tendency that when we increase $\\alpha$, the associated $\\theta$ corresponds to $t_\\chi=0$ becomes larger.\n",
    "Since we know that $\\alpha$ exceeds $\\alpha_m$ has no contribution, we can set the $\\theta_m$ resulted from $\\alpha_m$ from a given $t_\\chi$ is the upper bound of the $\\theta$-integral of $d\\Phi_\\chi/dT_\\chi$."
   ]
  },
  {
   "cell_type": "code",
   "execution_count": 256,
   "id": "coastal-elevation",
   "metadata": {},
   "outputs": [],
   "source": [
    "def find_am(Tx,mx,th=1e-10,max_a=0.5*np.pi,show_info=False):\n",
    "    \"\"\"\n",
    "    Find the first alpha that touches g(alpha) ~ 0 when 0 < alpha < pi/2\n",
    "    \n",
    "    Input\n",
    "    ------\n",
    "    Tx: DM kinetic energy\n",
    "    mx: DM mass\n",
    "    th: threshold\n",
    "    max_a: upper bound for the range of alpha that the algorithm to search, default is pi/2\n",
    "    show_info: show message of the root algorithm\n",
    "    \n",
    "    Output\n",
    "    ------\n",
    "    show_info True: show all message\n",
    "    show_info False: show the a_min only, in rad\n",
    "    \"\"\"\n",
    "    bracket = [0,max_a]\n",
    "    min_g = lambda alpha: g(Ev(Tx,mx,alpha),mx,alpha) - th\n",
    "    a_m = root_scalar(min_g,bracket=bracket,method='brentq')\n",
    "    if show_info:\n",
    "        return a_m\n",
    "    else:\n",
    "        return a_m.root\n",
    "\n",
    "\n",
    "def find_tmax(Tx,mx,th=1e-10,max_a=0.5*np.pi,R=8.5):\n",
    "    \"\"\"\n",
    "    Find the vanishing time of the BDM flux for a given Tx and mx\n",
    "    \n",
    "    Input\n",
    "    ------\n",
    "    Tx: DM kinetic energy\n",
    "    mx: DM mass\n",
    "    th: threshold\n",
    "    max_a: upper bound for the range of alpha that the algorithm to search, default is pi/2\n",
    "    R: distance between the SN site and the Earth\n",
    "    \n",
    "    Output\n",
    "    ------\n",
    "    time: the vanishing time in second after the arrival of the first SN neutrino, in seconds\n",
    "    \"\"\"\n",
    "    t0 = R*kpc2cm/c\n",
    "    vdm = vx(Tx,mx)\n",
    "    # am that leads to g(am)=0\n",
    "    a_m = find_am(Tx,mx,th,max_a,False)\n",
    "    # define the dt/dtheta = 0\n",
    "    dtdth = lambda theta: np.cos(a_m - theta)/np.cos(theta) - vdm\n",
    "    # finding theta_m that leads to dt/dtheta=0\n",
    "    th_m = root_scalar(dtdth,bracket=[0, 0.5*np.pi],method='brentq').root\n",
    "    t_max = ((np.sin(th_m) + np.sin(a_m - th_m)/vdm)/np.sin(a_m) - 1)*t0\n",
    "    return t_max\n",
    "\n",
    "\n",
    "def find_theta_bound(t,Tx,mx,th=1e-10,max_a=0.5*np.pi,R=8.5):\n",
    "    \"\"\"\n",
    "    Finding the integral bound for theta for given Tx, mx and arrival time\n",
    "    \n",
    "    Input\n",
    "    ------\n",
    "    t: the arrival time of BDM, origin is set to be the arrival of the first SN neutrino\n",
    "        note that the input should not exceed the vanishing time lest error will occur\n",
    "    Tx: DM kinetic energy\n",
    "    mx: DM mass\n",
    "    th: threshold\n",
    "    max_a: upper bound for the range of alpha that the algorithm to search, default is pi/2\n",
    "    R: distance between the SN site and the Earth\n",
    "    \n",
    "    Output\n",
    "    ------\n",
    "    tuple: lower and upper bound for theta in the integration, in rad\n",
    "    \"\"\"\n",
    "    vdm = vx(Tx,mx)\n",
    "    t0 = R*kpc2cm/c\n",
    "    # find a_min\n",
    "    a_m = find_am(Tx,mx,th,max_a,False)\n",
    "    \n",
    "    # We will use Newton-Raphson method to find the root that corresponds to theta_max\n",
    "    # This method requires the target function _f and its derivative _fp\n",
    "    def _f(theta):\n",
    "        return np.sin(theta) + np.sin(a_m - theta)/vdm - (t/t0 + 1)*np.sin(a_m)\n",
    "    \n",
    "    def _fp(theta):\n",
    "        return np.cos(theta) - np.cos(a_m - theta)/vdm\n",
    "    \n",
    "    # find solution to theta_max using Newton-Raphson method\n",
    "    sol_theta_max = root_scalar(_f,method='newton',x0=np.pi/2,fprime=_fp)    \n",
    "    if sol_theta_max.converged and 0 <= sol_theta_max.root <= np.pi/2:\n",
    "        theta_M = sol_theta_max.root\n",
    "    else:\n",
    "        #theta_M= sol_theta_max\n",
    "        raise ValueError('Either input time exceeds vanishing time or something went wrong.')\n",
    "        \n",
    "    # find solution to theta_min using Newton-Raphson method\n",
    "    sol_theta_min = root_scalar(_f,method='newton',x0=0,fprime=_fp)    \n",
    "    if sol_theta_min.converged and 0 <= sol_theta_min.root <= theta_M:\n",
    "        theta_m = sol_theta_min.root\n",
    "    else:\n",
    "        theta_m = 0\n",
    "        \n",
    "    return theta_m,theta_M"
   ]
  },
  {
   "cell_type": "code",
   "execution_count": 177,
   "id": "accepted-robert",
   "metadata": {
    "tags": []
   },
   "outputs": [],
   "source": [
    "def find_lra(t,theta,vx,R=8.5,r_cut=1e-5):\n",
    "    \"\"\"\n",
    "    Find l, r and alpha when t, cos\\theta, R and vx are given\n",
    "    \n",
    "    Input\n",
    "    ------\n",
    "    t: timing in seconds, 0 starts from the first arrival of the SN neutrino at Earth\n",
    "        theta: in rad\n",
    "    vx: dimensionless DM velocity, v/c\n",
    "    R: R in kpc, default 8.5 kpc\n",
    "    r_cut: the inner most galactic region should be considered, default is 1e-5 kpc\n",
    "    \n",
    "    Output\n",
    "    ------\n",
    "    tuple: (l,r,alpha,adopt)\n",
    "           adopt is either True or False that indicates the results should be adopted\n",
    "           or not\n",
    "    \"\"\"\n",
    "    cos = np.cos(theta)\n",
    "    R = R*kpc2cm\n",
    "    zeta = c*t + R\n",
    "    \n",
    "    # evaluate l\n",
    "    numerator = zeta-R*vx*cos-np.sqrt(R**2-(R*vx)**2+(vx*zeta)**2+R*vx*cos*(R*vx*cos-2*zeta))\n",
    "    denominator = 1-vx**2\n",
    "    l = vx*numerator/denominator\n",
    "    # evaluate r\n",
    "    r = np.sqrt(l**2+R**2-2*l*R*cos)\n",
    "    # evaluate the param in arccos\n",
    "    param = (R**2-r**2-l**2)/(2*r*l)\n",
    "    # checking if param is valid in arccos\n",
    "    if -1 <= param <= 1:\n",
    "        alpha = np.arccos(param)\n",
    "        # checking if the evaluated values satisfied all the requirements\n",
    "        if l > 0 and r>r_cut*kpc2cm and 0 <= alpha <= np.pi/2:\n",
    "            return l,r,alpha,True\n",
    "        else:\n",
    "            # one or more of the evaluated values is (not) satisfied\n",
    "            return 0,0,0,False\n",
    "    else:\n",
    "        # param is not valid\n",
    "        return 0,0,0,False\n",
    "\n",
    "    \n",
    "def bdmflux(t,theta,Tx,mx,tau=10,sigxv=1e-45,rho=184,rs=24.42,Lv=Lv,R=8.5,r_cut=1e-5):\n",
    "    \"\"\"\n",
    "    Boosted DM flux at Earth, per cm^2 per second\n",
    "    \n",
    "    Input\n",
    "    ------\n",
    "    t: time in second, 0 starts from the arrival of SN neutrino\n",
    "    theta: the open angle theta\n",
    "    Tx: DM kinetic energy, in MeV\n",
    "    mx: DM mass, in MeV\n",
    "    tau: the duration of SN explosion, default 10 s\n",
    "    sigxv: DM-neutrino scattering cross section, default 1e-45 cm^2\n",
    "    rho: NFW halo profile characteristic density, default 184 MeV/cm^3\n",
    "    rs: NFW halo profile characteristic length, default 24.42 kpc\n",
    "    Lv: SN neutrino luminosity, default 1e52 erg/s\n",
    "    R: distance between Sun and GC, default 8.5 kpc\n",
    "    r_cut: the inner most galactic region should be considered, default is 1e-5 kpc\n",
    "    \n",
    "    Output\n",
    "    ------\n",
    "    BDM flux: in the unit of per cm^2 per second for a given t\n",
    "    \"\"\"\n",
    "    # Dimensionless DM velocity\n",
    "    vdm = vx(Tx,mx)\n",
    "    # Get l,r,alpha,adopt\n",
    "    l,r,alpha,adopt = find_lra(t,theta,vdm,R,r_cut)\n",
    "    if adopt:\n",
    "        J = c/((l - R*kpc2cm*np.cos(theta))/r + 1/vdm)\n",
    "        return J*sigxv*xemissivity(Tx,mx,alpha,r,rho,rs,tau,Lv)*np.sin(theta)*vdm\n",
    "    else:\n",
    "        return 0"
   ]
  },
  {
   "cell_type": "code",
   "execution_count": 254,
   "id": "advisory-moderator",
   "metadata": {},
   "outputs": [
    {
     "name": "stderr",
     "output_type": "stream",
     "text": [
      "/usr/local/lib/python3.6/site-packages/ipykernel_launcher.py:140: RuntimeWarning: divide by zero encountered in double_scalars\n",
      "/usr/local/lib/python3.6/site-packages/ipykernel_launcher.py:24: RuntimeWarning: invalid value encountered in sqrt\n"
     ]
    }
   ],
   "source": [
    "mx = 0.001\n",
    "Tx = 10\n",
    "theta_slice= 10\n",
    "time_ls = np.logspace(3,np.log10(find_tmax(Tx,mx)),100)\n",
    "\n",
    "bdm_ls_quad = []\n",
    "for t in time_ls:\n",
    "    # find the lower and upper bounds for the theta in BDM integration\n",
    "    theta_m,theta_M =find_theta_bound(t,Tx,mx)\n",
    "    # slicing the bound into multiple equal parts\n",
    "    delta = (theta_M-theta_m)/10**theta_slice\n",
    "    int_val = quad(lambda theta: bdmflux(t,theta,Tx,mx),theta_m,theta_m+10*delta)[0]\n",
    "    for i in range(1,theta_slice):\n",
    "        int_val += quad(lambda theta: bdmflux(t,theta,Tx,mx),theta_m+10**i*delta,theta_m+10**(i+1)*delta)[0]\n",
    "    bdm_ls_quad.append(int_val)"
   ]
  },
  {
   "cell_type": "code",
   "execution_count": 255,
   "id": "simplified-thirty",
   "metadata": {},
   "outputs": [
    {
     "data": {
      "text/plain": [
       "Text(0, 0.5, 'BDM flux')"
      ]
     },
     "execution_count": 255,
     "metadata": {},
     "output_type": "execute_result"
    },
    {
     "data": {
      "image/png": "[encoded data removed]",
      "text/plain": [
       "<Figure size 432x288 with 1 Axes>"
      ]
     },
     "metadata": {
      "image/png": {
       "height": 263,
       "width": 402
      },
      "needs_background": "light"
     },
     "output_type": "display_data"
    }
   ],
   "source": [
    "plt.plot(time_ls/yr,bdm_ls_quad)\n",
    "plt.xscale('log')\n",
    "plt.yscale('log')\n",
    "plt.ylim(1e-20,)\n",
    "plt.xlabel('time [yr]')\n",
    "plt.ylabel('BDM flux')"
   ]
  },
  {
   "cell_type": "code",
   "execution_count": 244,
   "id": "labeled-arbitration",
   "metadata": {},
   "outputs": [
    {
     "data": {
      "text/plain": [
       "69.26922305599271"
      ]
     },
     "execution_count": 244,
     "metadata": {},
     "output_type": "execute_result"
    }
   ],
   "source": [
    "find_tmax(10,0.1)/yr"
   ]
  },
  {
   "cell_type": "code",
   "execution_count": 257,
   "id": "located-queens",
   "metadata": {},
   "outputs": [
    {
     "ename": "ValueError",
     "evalue": "Either input time exceeds vanishing time or something went wrong.",
     "output_type": "error",
     "traceback": [
      "\u001b[0;31m---------------------------------------------------------------------------\u001b[0m",
      "\u001b[0;31mValueError\u001b[0m                                Traceback (most recent call last)",
      "\u001b[0;32m<ipython-input-257-d4defa6cf548>\u001b[0m in \u001b[0;36m<module>\u001b[0;34m\u001b[0m\n\u001b[0;32m----> 1\u001b[0;31m \u001b[0mfind_theta_bound\u001b[0m\u001b[0;34m(\u001b[0m\u001b[0;36m70\u001b[0m\u001b[0;34m*\u001b[0m\u001b[0myr\u001b[0m\u001b[0;34m,\u001b[0m\u001b[0;36m10\u001b[0m\u001b[0;34m,\u001b[0m\u001b[0;36m0.1\u001b[0m\u001b[0;34m)\u001b[0m\u001b[0;34m\u001b[0m\u001b[0;34m\u001b[0m\u001b[0m\n\u001b[0m",
      "\u001b[0;32m<ipython-input-256-53f4b7e9bf82>\u001b[0m in \u001b[0;36mfind_theta_bound\u001b[0;34m(t, Tx, mx, th, max_a, R)\u001b[0m\n\u001b[1;32m     90\u001b[0m     \u001b[0;32melse\u001b[0m\u001b[0;34m:\u001b[0m\u001b[0;34m\u001b[0m\u001b[0;34m\u001b[0m\u001b[0m\n\u001b[1;32m     91\u001b[0m         \u001b[0;31m#theta_M= sol_theta_max\u001b[0m\u001b[0;34m\u001b[0m\u001b[0;34m\u001b[0m\u001b[0;34m\u001b[0m\u001b[0m\n\u001b[0;32m---> 92\u001b[0;31m         \u001b[0;32mraise\u001b[0m \u001b[0mValueError\u001b[0m\u001b[0;34m(\u001b[0m\u001b[0;34m'Either input time exceeds vanishing time or something went wrong.'\u001b[0m\u001b[0;34m)\u001b[0m\u001b[0;34m\u001b[0m\u001b[0;34m\u001b[0m\u001b[0m\n\u001b[0m\u001b[1;32m     93\u001b[0m \u001b[0;34m\u001b[0m\u001b[0m\n\u001b[1;32m     94\u001b[0m     \u001b[0;31m# find solution to theta_min using Newton-Raphson method\u001b[0m\u001b[0;34m\u001b[0m\u001b[0;34m\u001b[0m\u001b[0;34m\u001b[0m\u001b[0m\n",
      "\u001b[0;31mValueError\u001b[0m: Either input time exceeds vanishing time or something went wrong."
     ]
    }
   ],
   "source": [
    "find_theta_bound(70*yr,10,0.1)"
   ]
  },
  {
   "cell_type": "code",
   "execution_count": 184,
   "id": "single-receiver",
   "metadata": {},
   "outputs": [
    {
     "name": "stderr",
     "output_type": "stream",
     "text": [
      "/usr/local/lib/python3.6/site-packages/ipykernel_launcher.py:140: RuntimeWarning: divide by zero encountered in true_divide\n"
     ]
    }
   ],
   "source": [
    "mx = 1\n",
    "Tx = 10\n",
    "time_ls = np.logspace(np.log10(yr)-3,np.log10(find_tmax(Tx,mx)),50)\n",
    "\n",
    "bdm_ls = []\n",
    "for t in time_ls:\n",
    "    theta_integ = vegas.Integrator([[0, find_theta_bound(t,Tx,mx)]])\n",
    "    int_result = theta_integ(lambda theta: bdmflux(t,theta,Tx,mx), nitn=10, neval=5000)\n",
    "    try:\n",
    "        bdm_ls.append(int_result[0].mean)\n",
    "    except:\n",
    "        bdm_ls.append(int_result.mean)"
   ]
  },
  {
   "cell_type": "code",
   "execution_count": 186,
   "id": "infinite-startup",
   "metadata": {},
   "outputs": [
    {
     "data": {
      "image/png": "[encoded data removed]",
      "text/plain": [
       "<Figure size 432x288 with 1 Axes>"
      ]
     },
     "metadata": {
      "image/png": {
       "height": 249,
       "width": 386
      },
      "needs_background": "light"
     },
     "output_type": "display_data"
    }
   ],
   "source": [
    "plt.plot(time_ls/yr,bdm_ls)\n",
    "plt.xscale('log')\n",
    "plt.yscale('log')"
   ]
  },
  {
   "cell_type": "code",
   "execution_count": 179,
   "id": "young-universe",
   "metadata": {},
   "outputs": [
    {
     "data": {
      "text/plain": [
       "50"
      ]
     },
     "execution_count": 179,
     "metadata": {},
     "output_type": "execute_result"
    }
   ],
   "source": [
    "len(bdm_ls)"
   ]
  },
  {
   "cell_type": "code",
   "execution_count": 142,
   "id": "durable-warrior",
   "metadata": {},
   "outputs": [],
   "source": [
    "test=theta_integ(lambda theta: bdmflux(1e-2*yr,theta,Tx,mx), nitn=10, neval=2000)"
   ]
  },
  {
   "cell_type": "code",
   "execution_count": 147,
   "id": "amber-screening",
   "metadata": {},
   "outputs": [
    {
     "data": {
      "text/plain": [
       "9.4892(11)e-17"
      ]
     },
     "execution_count": 147,
     "metadata": {},
     "output_type": "execute_result"
    }
   ],
   "source": [
    "test[0]"
   ]
  },
  {
   "cell_type": "code",
   "execution_count": 262,
   "id": "indirect-sheet",
   "metadata": {},
   "outputs": [
    {
     "data": {
      "text/plain": [
       "6.9347034325825225"
      ]
     },
     "execution_count": 262,
     "metadata": {},
     "output_type": "execute_result"
    }
   ],
   "source": [
    "tmax/yr"
   ]
  },
  {
   "cell_type": "code",
   "execution_count": 226,
   "id": "streaming-latter",
   "metadata": {},
   "outputs": [],
   "source": [
    "def tt(Tx,mx,th,am):\n",
    "    R = 8.5*kpc2cm\n",
    "    vdm = vx(Tx,mx)*c\n",
    "    return R*(np.sin(th)/np.sin(am))/c+R*(np.sin(am-th)/np.sin(am))/vdm -R/c"
   ]
  },
  {
   "cell_type": "code",
   "execution_count": 233,
   "id": "worse-employer",
   "metadata": {},
   "outputs": [],
   "source": [
    "th_ls = np.logspace(-5,np.log10(0.5*np.pi),100)\n",
    "Tx= 10\n",
    "mx = 0.1\n",
    "amin = find_am(Tx,mx)\n",
    "tt_ls = []\n",
    "tt_ls2 = []\n",
    "tt_ls3 = []\n",
    "for th in th_ls:\n",
    "    tt_ls.append(tt(Tx,mx,th,amin)/yr)\n",
    "    tt_ls2.append(tt(Tx,mx,th,amin/2)/yr)\n",
    "    tt_ls3.append(tt(Tx,mx,th,amin/10)/yr)"
   ]
  },
  {
   "cell_type": "code",
   "execution_count": 243,
   "id": "crazy-third",
   "metadata": {},
   "outputs": [
    {
     "data": {
      "text/plain": [
       "Text(0, 0.5, 'arrival time [yr]')"
      ]
     },
     "execution_count": 243,
     "metadata": {},
     "output_type": "execute_result"
    },
    {
     "data": {
      "image/png": "[encoded data removed]",
      "text/plain": [
       "<Figure size 432x288 with 1 Axes>"
      ]
     },
     "metadata": {
      "image/png": {
       "height": 267,
       "width": 387
      },
      "needs_background": "light"
     },
     "output_type": "display_data"
    }
   ],
   "source": [
    "plt.plot(th_ls,tt_ls,label='am')\n",
    "plt.plot(th_ls,tt_ls2,label='am/2')\n",
    "plt.plot(th_ls,tt_ls3,label='am/10')\n",
    "#plt.plot([[1e-5,0.5*np.pi]],[[8,8]],'--')\n",
    "plt.xlabel(r'$\\theta$')\n",
    "plt.legend()\n",
    "plt.xscale('log')\n",
    "plt.ylim(0.5,100)\n",
    "plt.yscale('log')\n",
    "plt.xlabel(r'$\\theta$')\n",
    "plt.ylabel('arrival time [yr]')"
   ]
  },
  {
   "cell_type": "code",
   "execution_count": 10,
   "id": "intended-appraisal",
   "metadata": {},
   "outputs": [
    {
     "data": {
      "text/plain": [
       "0.14048970175302428"
      ]
     },
     "execution_count": 10,
     "metadata": {},
     "output_type": "execute_result"
    }
   ],
   "source": [
    "find_theta_bound(10,0.1,0)"
   ]
  },
  {
   "cell_type": "code",
   "execution_count": 16,
   "id": "homeless-ordering",
   "metadata": {},
   "outputs": [
    {
     "data": {
      "text/plain": [
       "0.0001220703125"
      ]
     },
     "execution_count": 16,
     "metadata": {},
     "output_type": "execute_result"
    }
   ],
   "source": [
    "tt(10,0.1,0.14048970175302,amin)"
   ]
  },
  {
   "cell_type": "code",
   "execution_count": 135,
   "id": "strange-transfer",
   "metadata": {},
   "outputs": [
    {
     "data": {
      "text/plain": [
       "      converged: True\n",
       "           flag: 'converged'\n",
       " function_calls: 7\n",
       "     iterations: 6\n",
       "           root: 0.06989652246922248"
      ]
     },
     "execution_count": 135,
     "metadata": {},
     "output_type": "execute_result"
    }
   ],
   "source": [
    "root_scalar(lambda th: np.cos(amin-th)/np.cos(th)-vx(10,0.1),bracket=[0, 0.5*np.pi],method='brentq')"
   ]
  },
  {
   "cell_type": "code",
   "execution_count": 151,
   "id": "smaller-ethernet",
   "metadata": {},
   "outputs": [
    {
     "data": {
      "text/plain": [
       "0.022250241724347083"
      ]
     },
     "execution_count": 151,
     "metadata": {},
     "output_type": "execute_result"
    }
   ],
   "source": [
    "th_ls[np.argmax(tt_ls)]"
   ]
  },
  {
   "cell_type": "code",
   "execution_count": 152,
   "id": "ordinary-belief",
   "metadata": {},
   "outputs": [
    {
     "data": {
      "text/plain": [
       "69.26922275226967"
      ]
     },
     "execution_count": 152,
     "metadata": {},
     "output_type": "execute_result"
    }
   ],
   "source": [
    "np.max(tt_ls)"
   ]
  },
  {
   "cell_type": "code",
   "execution_count": 156,
   "id": "theoretical-zimbabwe",
   "metadata": {},
   "outputs": [
    {
     "data": {
      "text/plain": [
       "1.3598823884477358"
      ]
     },
     "execution_count": 156,
     "metadata": {},
     "output_type": "execute_result"
    }
   ],
   "source": [
    "8.5*kpc2cm*(1/vx(10,0.1)/c-1/c)/yr"
   ]
  },
  {
   "cell_type": "code",
   "execution_count": 152,
   "id": "right-significance",
   "metadata": {},
   "outputs": [
    {
     "name": "stdout",
     "output_type": "stream",
     "text": [
      "Total 70 out of 70 jobs are complete!\r"
     ]
    }
   ],
   "source": [
    "# All in MeV\n",
    "mx1 = 0.001\n",
    "mx2 = 0.01\n",
    "mx3 = 0.01\n",
    "mx4 = 1\n",
    "mx5 = 10\n",
    "Tx = 10\n",
    "# define integral range for theta\n",
    "theta_integ = vegas.Integrator([[0, 0.5*np.pi]])\n",
    "\n",
    "# years\n",
    "yrls=np.int64(np.logspace(-3,1.3,70)*yr)\n",
    "#yrls = np.append(yrls1,yrls2)\n",
    "tot_job = len(yrls)\n",
    "job = 1\n",
    "#fluxmx1_single=[]\n",
    "#for y in yrls:\n",
    "#    fluxmx1_single.append(bdmflux_single(y*yr,Tx,mx1))\n",
    "\n",
    "#fluxmx2_single=[]\n",
    "#for y in yrls:\n",
    "#    fluxmx2_single.append(bdmflux_single(y*yr,Tx,mx2))\n",
    "    \n",
    "fluxmx3_single=[]\n",
    "for y in yrls:\n",
    "    fluxmx3 = theta_integ(lambda theta: bdmflux(y,theta,Tx,mx3), nitn=10, neval=5000)\n",
    "    try:\n",
    "        fluxmx3_single.append(fluxmx3[0].mean)\n",
    "    except:\n",
    "        fluxmx3_single.append(fluxmx3.mean)\n",
    "    print('Total '+str(job)+' out of '+str(tot_job)+' jobs are complete!',end=\"\\r\")\n",
    "    job+=1\n",
    "    \n",
    "\n",
    "#fluxmx4_single=[]\n",
    "#for y in yrls:\n",
    "#    fluxmx4_single.append(bdmflux_single(y*yr,Tx,mx4))\n"
   ]
  },
  {
   "cell_type": "code",
   "execution_count": 153,
   "id": "strong-caribbean",
   "metadata": {},
   "outputs": [
    {
     "name": "stderr",
     "output_type": "stream",
     "text": [
      "/usr/local/lib/python3.6/site-packages/ipykernel_launcher.py:3: UserWarning: Data has no positive values, and therefore cannot be log-scaled.\n",
      "  This is separate from the ipykernel package so we can avoid doing imports until\n"
     ]
    },
    {
     "data": {
      "image/png": "[encoded data removed]",
      "text/plain": [
       "<Figure size 432x288 with 1 Axes>"
      ]
     },
     "metadata": {
      "image/png": {
       "height": 249,
       "width": 373
      },
      "needs_background": "light"
     },
     "output_type": "display_data"
    }
   ],
   "source": [
    "plt.plot(yrls/yr,fluxmx3_single)\n",
    "plt.xscale('log')\n",
    "plt.yscale('log')"
   ]
  },
  {
   "cell_type": "code",
   "execution_count": 202,
   "id": "objective-abraham",
   "metadata": {},
   "outputs": [],
   "source": [
    "theta_integ = vegas.Integrator([[0, 1e-7]])"
   ]
  },
  {
   "cell_type": "code",
   "execution_count": 217,
   "id": "usual-plane",
   "metadata": {},
   "outputs": [
    {
     "data": {
      "text/plain": [
       "0.0(7.1)e-130"
      ]
     },
     "execution_count": 217,
     "metadata": {},
     "output_type": "execute_result"
    }
   ],
   "source": [
    "theta_integ(lambda theta: bdmflux(1e3,theta,Tx,mx3), nitn=20, neval=10000)"
   ]
  },
  {
   "cell_type": "code",
   "execution_count": 216,
   "id": "dental-european",
   "metadata": {},
   "outputs": [
    {
     "data": {
      "text/plain": [
       "0"
      ]
     },
     "execution_count": 216,
     "metadata": {},
     "output_type": "execute_result"
    }
   ],
   "source": [
    "bdmflux(0.01*yr,1e-7,Tx,mx3)"
   ]
  },
  {
   "cell_type": "code",
   "execution_count": 140,
   "id": "exact-receipt",
   "metadata": {},
   "outputs": [
    {
     "name": "stdout",
     "output_type": "stream",
     "text": [
      "9\r"
     ]
    }
   ],
   "source": [
    "for i in range (10):  \n",
    "    print(i, end=\"\\r\")"
   ]
  },
  {
   "cell_type": "code",
   "execution_count": 127,
   "id": "colored-novelty",
   "metadata": {},
   "outputs": [
    {
     "name": "stderr",
     "output_type": "stream",
     "text": [
      "/usr/local/lib/python3.6/site-packages/ipykernel_launcher.py:22: RuntimeWarning: overflow encountered in exp\n"
     ]
    },
    {
     "data": {
      "text/plain": [
       "1.718(14)e-21"
      ]
     },
     "execution_count": 127,
     "metadata": {},
     "output_type": "execute_result"
    }
   ],
   "source": [
    "theta_integ(lambda x: bdmflux(yrls[3],x[0],x[1],mx3), nitn=20, neval=10000)"
   ]
  },
  {
   "cell_type": "code",
   "execution_count": 128,
   "id": "recreational-longitude",
   "metadata": {},
   "outputs": [
    {
     "name": "stderr",
     "output_type": "stream",
     "text": [
      "/usr/local/lib/python3.6/site-packages/ipykernel_launcher.py:22: RuntimeWarning: overflow encountered in exp\n"
     ]
    },
    {
     "data": {
      "text/plain": [
       "1.7190(10)e-21"
      ]
     },
     "execution_count": 128,
     "metadata": {},
     "output_type": "execute_result"
    }
   ],
   "source": [
    "theta_integ(lambda x: bdmflux(yrls[3],x[0],x[1],mx3), nitn=20, neval=10000)"
   ]
  },
  {
   "cell_type": "code",
   "execution_count": 131,
   "id": "induced-function",
   "metadata": {},
   "outputs": [
    {
     "data": {
      "image/png": "[encoded data removed]",
      "text/plain": [
       "<Figure size 432x288 with 1 Axes>"
      ]
     },
     "metadata": {
      "image/png": {
       "height": 254,
       "width": 384
      },
      "needs_background": "light"
     },
     "output_type": "display_data"
    }
   ],
   "source": [
    "plt.plot(yrls/yr,fluxmx3_single)\n",
    "plt.ylim(1e-25,1e-21)\n",
    "plt.xscale('log')\n",
    "plt.yscale('log')"
   ]
  },
  {
   "cell_type": "code",
   "execution_count": 211,
   "id": "hearing-trigger",
   "metadata": {},
   "outputs": [
    {
     "name": "stdout",
     "output_type": "stream",
     "text": [
      "try success\n"
     ]
    },
    {
     "name": "stderr",
     "output_type": "stream",
     "text": [
      "/usr/local/lib/python3.6/site-packages/ipykernel_launcher.py:2: RuntimeWarning: invalid value encountered in arccos\n",
      "  \n"
     ]
    }
   ],
   "source": [
    "try:\n",
    "    np.arccos(-1.1)\n",
    "    print('try success')\n",
    "except:\n",
    "    print('try failed')"
   ]
  },
  {
   "cell_type": "code",
   "execution_count": 41,
   "id": "operational-spine",
   "metadata": {},
   "outputs": [
    {
     "data": {
      "text/plain": [
       "RAvgArray([1.844731(36)e-22], dtype=object)"
      ]
     },
     "execution_count": 41,
     "metadata": {},
     "output_type": "execute_result"
    }
   ],
   "source": [
    "fluxmx3"
   ]
  },
  {
   "cell_type": "code",
   "execution_count": 12,
   "id": "collaborative-lighting",
   "metadata": {},
   "outputs": [],
   "source": [
    "test_ls=[]\n",
    "for y in yrls:\n",
    "    test_ls.append(y)"
   ]
  },
  {
   "cell_type": "code",
   "execution_count": 79,
   "id": "absent-nightmare",
   "metadata": {},
   "outputs": [
    {
     "data": {
      "text/plain": [
       "0.0(1.0)e-129"
      ]
     },
     "execution_count": 79,
     "metadata": {},
     "output_type": "execute_result"
    }
   ],
   "source": [
    "flux = theta_integ(lambda theta: bdmflux(5*yr,theta,10,0.01),nitn=10, neval=10000)\n",
    "flux"
   ]
  },
  {
   "cell_type": "code",
   "execution_count": 13,
   "id": "subsequent-blanket",
   "metadata": {},
   "outputs": [
    {
     "data": {
      "text/plain": [
       "[315, 9972, 315360, 9972558, 315360000]"
      ]
     },
     "execution_count": 13,
     "metadata": {},
     "output_type": "execute_result"
    }
   ],
   "source": [
    "test_ls"
   ]
  },
  {
   "cell_type": "code",
   "execution_count": 81,
   "id": "rubber-neighbor",
   "metadata": {},
   "outputs": [],
   "source": [
    "yrls=np.logspace(-5,1,20)*yr"
   ]
  },
  {
   "cell_type": "code",
   "execution_count": 85,
   "id": "sharp-killer",
   "metadata": {},
   "outputs": [
    {
     "data": {
      "text/plain": [
       "array([      315,       652,      1350,      2793,      5780,     11960,\n",
       "           24748,     51207,    105955,    219236,    453629,    938622,\n",
       "         1942138,   4018553,   8314942,  17204763,  35599031,  73659312,\n",
       "       152411288, 315360000])"
      ]
     },
     "execution_count": 85,
     "metadata": {},
     "output_type": "execute_result"
    }
   ],
   "source": [
    "np.int64(yrls)"
   ]
  },
  {
   "cell_type": "code",
   "execution_count": 32,
   "id": "hybrid-perfume",
   "metadata": {},
   "outputs": [
    {
     "data": {
      "text/plain": [
       "9.70551059854033e-25"
      ]
     },
     "execution_count": 32,
     "metadata": {},
     "output_type": "execute_result"
    }
   ],
   "source": [
    "bdmflux(10,0.001,5,10)"
   ]
  },
  {
   "cell_type": "code",
   "execution_count": 41,
   "id": "agricultural-anthropology",
   "metadata": {},
   "outputs": [
    {
     "data": {
      "text/plain": [
       "(8.584364222582893, 0.1200581977021025, 2.354961396943058, False)"
      ]
     },
     "execution_count": 41,
     "metadata": {},
     "output_type": "execute_result"
    }
   ],
   "source": [
    "find_lra(100,0.01,vx(5,0.5))"
   ]
  },
  {
   "cell_type": "code",
   "execution_count": 9,
   "id": "ongoing-legend",
   "metadata": {},
   "outputs": [],
   "source": [
    "test_lra=find_lra(100,0.01,vx(5,0.5))"
   ]
  },
  {
   "cell_type": "code",
   "execution_count": 16,
   "id": "amazing-decision",
   "metadata": {},
   "outputs": [
    {
     "data": {
      "text/plain": [
       "8.584364222591969"
      ]
     },
     "execution_count": 16,
     "metadata": {},
     "output_type": "execute_result"
    }
   ],
   "source": [
    "(np.float64(test_lra[0:3])/kpc2cm)[0]"
   ]
  },
  {
   "cell_type": "code",
   "execution_count": 42,
   "id": "bronze-melbourne",
   "metadata": {},
   "outputs": [],
   "source": [
    "def f(x):\n",
    "    return x"
   ]
  },
  {
   "cell_type": "code",
   "execution_count": 43,
   "id": "induced-bhutan",
   "metadata": {},
   "outputs": [
    {
     "data": {
      "text/plain": [
       "[1, 2]"
      ]
     },
     "execution_count": 43,
     "metadata": {},
     "output_type": "execute_result"
    }
   ],
   "source": [
    "f([1,2])"
   ]
  },
  {
   "cell_type": "code",
   "execution_count": 47,
   "id": "related-healing",
   "metadata": {},
   "outputs": [],
   "source": [
    "integ = vegas.Integrator([[0, 1]])\n"
   ]
  },
  {
   "cell_type": "code",
   "execution_count": 48,
   "id": "atlantic-oxford",
   "metadata": {},
   "outputs": [
    {
     "data": {
      "text/plain": [
       "RAvgArray([0.499949(33)], dtype=object)"
      ]
     },
     "execution_count": 48,
     "metadata": {},
     "output_type": "execute_result"
    }
   ],
   "source": [
    "result=integ(f, nitn=10, neval=1000)\n",
    "result"
   ]
  },
  {
   "cell_type": "code",
   "execution_count": 58,
   "id": "appreciated-earth",
   "metadata": {},
   "outputs": [
    {
     "data": {
      "text/plain": [
       "0.49994881472893116"
      ]
     },
     "execution_count": 58,
     "metadata": {},
     "output_type": "execute_result"
    }
   ],
   "source": [
    "result[0].mean"
   ]
  },
  {
   "cell_type": "code",
   "execution_count": 18,
   "id": "earned-lender",
   "metadata": {},
   "outputs": [
    {
     "data": {
      "text/plain": [
       "Text(0, 0.5, 'y (cm)')"
      ]
     },
     "execution_count": 18,
     "metadata": {},
     "output_type": "execute_result"
    },
    {
     "data": {
      "image/png": "[encoded data removed]",
      "text/plain": [
       "<Figure size 432x288 with 2 Axes>"
      ]
     },
     "metadata": {
      "image/png": {
       "height": 263,
       "width": 369
      },
      "needs_background": "light"
     },
     "output_type": "display_data"
    }
   ],
   "source": [
    "xlist = np.linspace(-3.0, 0, 10)\n",
    "ylist = np.linspace(0, 3.0, 10)\n",
    "X, Y = np.meshgrid(xlist, ylist)\n",
    "Z = np.sqrt(X**2 + Y**2)\n",
    "fig,ax=plt.subplots(1,1)\n",
    "cp = ax.contourf(X, Y, Z)\n",
    "fig.colorbar(cp) # Add a colorbar to a plot\n",
    "ax.set_title('Filled Contours Plot')\n",
    "#ax.set_xlabel('x (cm)')\n",
    "ax.set_ylabel('y (cm)')"
   ]
  },
  {
   "cell_type": "code",
   "execution_count": 12,
   "id": "designed-estate",
   "metadata": {},
   "outputs": [
    {
     "data": {
      "text/plain": [
       "5.534194799197742e-06"
      ]
     },
     "execution_count": 12,
     "metadata": {},
     "output_type": "execute_result"
    }
   ],
   "source": [
    "(8.5*kpc2cm/vx(50,0.001)/c-8.5*kpc2cm/c)/yr"
   ]
  },
  {
   "cell_type": "code",
   "execution_count": 11,
   "id": "duplicate-investor",
   "metadata": {},
   "outputs": [
    {
     "data": {
      "text/plain": [
       "\u001b[0;31mSignature:\u001b[0m \u001b[0mvx\u001b[0m\u001b[0;34m(\u001b[0m\u001b[0mTx\u001b[0m\u001b[0;34m,\u001b[0m \u001b[0mmx\u001b[0m\u001b[0;34m)\u001b[0m\u001b[0;34m\u001b[0m\u001b[0;34m\u001b[0m\u001b[0m\n",
       "\u001b[0;31mDocstring:\u001b[0m\n",
       "The dimensionless DM velocity. To restore the physical unit, just\n",
       "times the speed of light c\n",
       "\n",
       "Input\n",
       "------\n",
       "Tx: DM kinetic energy\n",
       "mx: DM mass\n",
       "\n",
       "Output\n",
       "------\n",
       "vx: dimensionless DM velocity\n",
       "\u001b[0;31mFile:\u001b[0m      ~/SNvBDM/<ipython-input-4-bf4762ff563f>\n",
       "\u001b[0;31mType:\u001b[0m      function\n"
      ]
     },
     "metadata": {},
     "output_type": "display_data"
    }
   ],
   "source": [
    "vx?"
   ]
  },
  {
   "cell_type": "code",
   "execution_count": 23,
   "id": "integral-script",
   "metadata": {},
   "outputs": [
    {
     "data": {
      "text/plain": [
       "2.8284271247461903"
      ]
     },
     "execution_count": 23,
     "metadata": {},
     "output_type": "execute_result"
    }
   ],
   "source": [
    "testz(xlist[3],ylist[6])"
   ]
  },
  {
   "cell_type": "code",
   "execution_count": 50,
   "id": "considered-forest",
   "metadata": {},
   "outputs": [],
   "source": [
    "dtest = grad(test)"
   ]
  },
  {
   "cell_type": "code",
   "execution_count": 51,
   "id": "veterinary-russian",
   "metadata": {},
   "outputs": [
    {
     "name": "stdout",
     "output_type": "stream",
     "text": [
      "109.196304\n"
     ]
    }
   ],
   "source": [
    "print(dtest(2.0,3.0))"
   ]
  },
  {
   "cell_type": "code",
   "execution_count": 36,
   "id": "united-satin",
   "metadata": {},
   "outputs": [
    {
     "name": "stdout",
     "output_type": "stream",
     "text": [
      "14.778112\n"
     ]
    }
   ],
   "source": [
    "def tanh(x):  # Define a function\n",
    "    y = jnp.exp(2.0 * x)\n",
    "    return y#(1.0 - y) / (1.0 + y)\n",
    "\n",
    "grad_tanh = grad(tanh)  # Obtain its gradient function\n",
    "print(grad_tanh(1.0))"
   ]
  },
  {
   "cell_type": "code",
   "execution_count": 71,
   "id": "disciplinary-insulin",
   "metadata": {},
   "outputs": [
    {
     "data": {
      "text/plain": [
       "array([5., 6., 7.], dtype=float32)"
      ]
     },
     "execution_count": 71,
     "metadata": {},
     "output_type": "execute_result"
    }
   ],
   "source": [
    "np.float32([5,6,7])"
   ]
  },
  {
   "cell_type": "code",
   "execution_count": 78,
   "id": "ranking-arrival",
   "metadata": {},
   "outputs": [
    {
     "data": {
      "text/plain": [
       "0.0"
      ]
     },
     "execution_count": 78,
     "metadata": {},
     "output_type": "execute_result"
    }
   ],
   "source": [
    "1e20-(1e20+1)"
   ]
  },
  {
   "cell_type": "code",
   "execution_count": 79,
   "id": "overhead-taxation",
   "metadata": {},
   "outputs": [
    {
     "data": {
      "text/plain": [
       "1.0"
      ]
     },
     "execution_count": 79,
     "metadata": {},
     "output_type": "execute_result"
    }
   ],
   "source": [
    "(1e20-1e20)+1"
   ]
  },
  {
   "cell_type": "code",
   "execution_count": null,
   "id": "painted-chrome",
   "metadata": {},
   "outputs": [],
   "source": []
  }
 ],
 "metadata": {
  "kernelspec": {
   "display_name": "Python 3",
   "language": "python",
   "name": "python3"
  },
  "language_info": {
   "codemirror_mode": {
    "name": "ipython",
    "version": 3
   },
   "file_extension": ".py",
   "mimetype": "text/x-python",
   "name": "python",
   "nbconvert_exporter": "python",
   "pygments_lexer": "ipython3",
   "version": "3.6.8"
  }
 },
 "nbformat": 4,
 "nbformat_minor": 5
}
